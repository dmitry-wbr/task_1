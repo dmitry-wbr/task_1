{
 "cells": [
  {
   "cell_type": "markdown",
   "metadata": {},
   "source": [
    "## Naive Bayes Classifier Homework\n",
    "Student name: Dmitry Timerbaev"
   ]
  },
  {
   "cell_type": "markdown",
   "metadata": {},
   "source": [
    "### Data preprocessing\n",
    "Before creating Naive Bayes classifier, we need to preprocess the data:\n",
    "\n",
    "1) Import libraries and load the dataset, divide text data and labels\n",
    "\n",
    "2) Remove all punctuation (unnecessary for classification)\n",
    "\n",
    "3) Make new list with processed text data"
   ]
  },
  {
   "cell_type": "code",
   "execution_count": 1,
   "metadata": {},
   "outputs": [],
   "source": [
    "# import all necessary libraries\n",
    "import numpy as np\n",
    "import pandas as pd\n",
    "from sklearn.naive_bayes import MultinomialNB\n",
    "from sklearn.feature_extraction.text import CountVectorizer\n",
    "from sklearn.model_selection import StratifiedKFold\n",
    "from sklearn.metrics import accuracy_score"
   ]
  },
  {
   "cell_type": "code",
   "execution_count": 2,
   "metadata": {},
   "outputs": [
    {
     "data": {
      "text/html": [
       "<div>\n",
       "<style scoped>\n",
       "    .dataframe tbody tr th:only-of-type {\n",
       "        vertical-align: middle;\n",
       "    }\n",
       "\n",
       "    .dataframe tbody tr th {\n",
       "        vertical-align: top;\n",
       "    }\n",
       "\n",
       "    .dataframe thead th {\n",
       "        text-align: right;\n",
       "    }\n",
       "</style>\n",
       "<table border=\"1\" class=\"dataframe\">\n",
       "  <thead>\n",
       "    <tr style=\"text-align: right;\">\n",
       "      <th></th>\n",
       "      <th>v1</th>\n",
       "      <th>v2</th>\n",
       "      <th>Unnamed: 2</th>\n",
       "      <th>Unnamed: 3</th>\n",
       "      <th>Unnamed: 4</th>\n",
       "    </tr>\n",
       "  </thead>\n",
       "  <tbody>\n",
       "    <tr>\n",
       "      <th>0</th>\n",
       "      <td>ham</td>\n",
       "      <td>Go until jurong point, crazy.. Available only ...</td>\n",
       "      <td>NaN</td>\n",
       "      <td>NaN</td>\n",
       "      <td>NaN</td>\n",
       "    </tr>\n",
       "    <tr>\n",
       "      <th>1</th>\n",
       "      <td>ham</td>\n",
       "      <td>Ok lar... Joking wif u oni...</td>\n",
       "      <td>NaN</td>\n",
       "      <td>NaN</td>\n",
       "      <td>NaN</td>\n",
       "    </tr>\n",
       "    <tr>\n",
       "      <th>2</th>\n",
       "      <td>spam</td>\n",
       "      <td>Free entry in 2 a wkly comp to win FA Cup fina...</td>\n",
       "      <td>NaN</td>\n",
       "      <td>NaN</td>\n",
       "      <td>NaN</td>\n",
       "    </tr>\n",
       "    <tr>\n",
       "      <th>3</th>\n",
       "      <td>ham</td>\n",
       "      <td>U dun say so early hor... U c already then say...</td>\n",
       "      <td>NaN</td>\n",
       "      <td>NaN</td>\n",
       "      <td>NaN</td>\n",
       "    </tr>\n",
       "    <tr>\n",
       "      <th>4</th>\n",
       "      <td>ham</td>\n",
       "      <td>Nah I don't think he goes to usf, he lives aro...</td>\n",
       "      <td>NaN</td>\n",
       "      <td>NaN</td>\n",
       "      <td>NaN</td>\n",
       "    </tr>\n",
       "  </tbody>\n",
       "</table>\n",
       "</div>"
      ],
      "text/plain": [
       "     v1                                                 v2 Unnamed: 2  \\\n",
       "0   ham  Go until jurong point, crazy.. Available only ...        NaN   \n",
       "1   ham                      Ok lar... Joking wif u oni...        NaN   \n",
       "2  spam  Free entry in 2 a wkly comp to win FA Cup fina...        NaN   \n",
       "3   ham  U dun say so early hor... U c already then say...        NaN   \n",
       "4   ham  Nah I don't think he goes to usf, he lives aro...        NaN   \n",
       "\n",
       "  Unnamed: 3 Unnamed: 4  \n",
       "0        NaN        NaN  \n",
       "1        NaN        NaN  \n",
       "2        NaN        NaN  \n",
       "3        NaN        NaN  \n",
       "4        NaN        NaN  "
      ]
     },
     "execution_count": 2,
     "metadata": {},
     "output_type": "execute_result"
    }
   ],
   "source": [
    "# load data\n",
    "data = pd.read_csv('spam.csv', encoding='latin-1')\n",
    "data.head()"
   ]
  },
  {
   "cell_type": "code",
   "execution_count": 3,
   "metadata": {},
   "outputs": [],
   "source": [
    "# prepare data for classification. make dummy variables for labels: 1 for spam, 0 for not spam\n",
    "x = data['v2']\n",
    "y = data['v1']\n",
    "y = [1 if i == 'spam' else 0 for i in y]"
   ]
  },
  {
   "cell_type": "code",
   "execution_count": 4,
   "metadata": {},
   "outputs": [],
   "source": [
    "# define function that removes any punctuation from strings\n",
    "def punctuation(string): \n",
    "  \n",
    "    # punctuation marks to be removed\n",
    "    punctuations = '''!;:,.?()'[]<>'''\n",
    "  \n",
    "    # goes through each character in a string and if character belongs to punctuation - makes it null \n",
    "    for x in string.lower(): \n",
    "        if x in punctuations: \n",
    "            string = string.replace(x, \"\") \n",
    "  \n",
    "    # returns the string in lowercase letters \n",
    "    return string.lower() "
   ]
  },
  {
   "cell_type": "code",
   "execution_count": 5,
   "metadata": {},
   "outputs": [],
   "source": [
    "# create a list of lists with processed strings; apply punctuation function\n",
    "words_list = []\n",
    "for i in range(len(x)):\n",
    "    temporary_dict = []\n",
    "    for t in x[i].split():\n",
    "        stg = punctuation(t)\n",
    "        temporary_dict.append(stg)\n",
    "    words_list.append(temporary_dict)"
   ]
  },
  {
   "cell_type": "markdown",
   "metadata": {},
   "source": [
    "### Hand-made NB Classifier\n",
    "\n",
    "Creating a simple naive bayes classifier requires:\n",
    "\n",
    "1) Making separate lists for text data (spam_list for spam texts, ham_list for non-spam texts)\n",
    "\n",
    "2) Making dictionaries that count words within texts (spam_dict for spam texts, ham_dict for non-spam texts)\n",
    "\n",
    "3) Calculating totals and percentages of total for spam and non-spam texts\n",
    "\n",
    "4) Calculating probabilities for each text using bayes probability formula\n",
    "\n",
    "For classification task, accuracy is the best metric of performance. 5-fold cross validation will be used to test the classifier; accuracy scores will be stored in accuracy1 list"
   ]
  },
  {
   "cell_type": "code",
   "execution_count": 6,
   "metadata": {},
   "outputs": [],
   "source": [
    "# perform 5-fold CV on words_list\n",
    "words_list = np.array(words_list)\n",
    "y = np.array(y)\n",
    "accuracy1 = []\n",
    "kfold = StratifiedKFold(n_splits=5)\n",
    "for train_index, test_index in kfold.split(words_list,y):\n",
    "    x_train, x_test = words_list[train_index], words_list[test_index]\n",
    "    y_train, y_test = y[train_index], y[test_index]\n",
    "# create a list of words that occur in spam and non-spam messages    \n",
    "    spam_list = []\n",
    "    ham_list = []\n",
    "    for i in range(len(y_train)):\n",
    "        if y_train[i] == 1:\n",
    "            spam_list.append(x_train[i])\n",
    "        elif y_train[i] == 0:\n",
    "            ham_list.append(x_train[i])\n",
    "# count words that occur in spam and non-spam messages    \n",
    "    spam_dict = {}\n",
    "    ham_dict = {}\n",
    "    \n",
    "    for i in range(len(y_train)):\n",
    "        if y_train[i] == 1:\n",
    "            for element in x_train[i]:\n",
    "                if element in spam_dict:\n",
    "                    spam_dict[element] += 1\n",
    "                else:\n",
    "                    spam_dict[element] = 1\n",
    "        elif y_train[i] == 0:\n",
    "            for element in x_train[i]:\n",
    "                if element in ham_dict:\n",
    "                    ham_dict[element] += 1\n",
    "                else:\n",
    "                    ham_dict[element] = 1\n",
    "# calculate probabilities    \n",
    "    total_sms = len(spam_list) + len(ham_list)\n",
    "    percent_spam = len(spam_list) / total_sms \n",
    "    percent_ham = len(ham_list) / total_sms\n",
    "    total_spam = sum(spam_dict.values())\n",
    "    total_ham = sum(ham_dict.values())\n",
    "# make predictions    \n",
    "    y_pred = []\n",
    "    for i in range(len(x_test)):\n",
    "        spam_probability = 1\n",
    "        ham_probability = 1\n",
    "        for word in x_test[i]:\n",
    "            if word in spam_dict:\n",
    "                word_in_spam = spam_dict[word]\n",
    "            elif word not in spam_dict:\n",
    "                word_in_spam = 0\n",
    "        spam_probability *= (word_in_spam + 1) / (total_spam + len(spam_dict)) # smoothing\n",
    "        for word in x_test[i]:\n",
    "            if word in ham_dict:\n",
    "                word_in_ham = ham_dict[word]\n",
    "            elif word not in ham_dict:\n",
    "                word_in_ham = 0\n",
    "        ham_probability *= (word_in_ham + 1) / (total_ham + len(ham_dict)) # smoothing\n",
    "    \n",
    "        final_spam = spam_probability * percent_spam\n",
    "        final_ham = ham_probability * percent_ham\n",
    "    \n",
    "        if final_spam > final_ham:\n",
    "            y_pred.append(1)\n",
    "        else:\n",
    "            y_pred.append(0)\n",
    "# calculate accuracy and append to accuracy1 list    \n",
    "    score = accuracy_score(y_test,y_pred)\n",
    "    accuracy1.append(score)"
   ]
  },
  {
   "cell_type": "code",
   "execution_count": 7,
   "metadata": {},
   "outputs": [
    {
     "name": "stdout",
     "output_type": "stream",
     "text": [
      "[0.9130044843049328, 0.9255605381165919, 0.9192100538599641, 0.9048473967684022, 0.9066427289048474]\n"
     ]
    }
   ],
   "source": [
    "# check accuracy metrics for the k-folds\n",
    "print(accuracy1)"
   ]
  },
  {
   "cell_type": "markdown",
   "metadata": {},
   "source": [
    "### Sklearn NB Classifier\n",
    "\n",
    "Now we will use sklearn multinomial NB classifier. Before using the classifier, we need to apply count vectorizer on text data.\n",
    "\n",
    "Predictions on k-folds will be recorded to accuracy2 list."
   ]
  },
  {
   "cell_type": "code",
   "execution_count": 8,
   "metadata": {},
   "outputs": [],
   "source": [
    "# create classifier and counter objects \n",
    "classifier = MultinomialNB()\n",
    "counter = CountVectorizer()\n",
    "x = data['v2'].tolist()\n",
    "x = np.array(x)\n",
    "y = np.array(y)\n",
    "# perform 5-fold CV \n",
    "accuracy2 = []\n",
    "kfold = StratifiedKFold(n_splits=5)\n",
    "for train_index, test_index in kfold.split(x,y):\n",
    "    x_train, x_test = x[train_index], x[test_index]\n",
    "    y_train, y_test = y[train_index], y[test_index]\n",
    "# transform data     \n",
    "    counter.fit(x_train)\n",
    "    train_counts = counter.transform(x_train)\n",
    "    test_counts = counter.transform(x_test)\n",
    "# fit classifier and predict    \n",
    "    classifier = MultinomialNB()\n",
    "    classifier.fit(train_counts, y_train)\n",
    "    y_pred = classifier.predict(test_counts)\n",
    "    score = accuracy_score(y_test, y_pred)\n",
    "    accuracy2.append(score)  "
   ]
  },
  {
   "cell_type": "code",
   "execution_count": 9,
   "metadata": {},
   "outputs": [
    {
     "name": "stdout",
     "output_type": "stream",
     "text": [
      "[0.9865470852017937, 0.9865470852017937, 0.9847396768402155, 0.9829443447037702, 0.9856373429084381]\n"
     ]
    }
   ],
   "source": [
    "# check accuracy metrics for the k-folds\n",
    "print(accuracy2)"
   ]
  },
  {
   "cell_type": "markdown",
   "metadata": {},
   "source": [
    "### Models evaluation\n",
    "Both the hand-made and sklearn classifiers achieved high test accuracy. Sklearn NB was slightly more accurate"
   ]
  },
  {
   "cell_type": "code",
   "execution_count": 10,
   "metadata": {},
   "outputs": [
    {
     "data": {
      "text/html": [
       "<div>\n",
       "<style scoped>\n",
       "    .dataframe tbody tr th:only-of-type {\n",
       "        vertical-align: middle;\n",
       "    }\n",
       "\n",
       "    .dataframe tbody tr th {\n",
       "        vertical-align: top;\n",
       "    }\n",
       "\n",
       "    .dataframe thead th {\n",
       "        text-align: right;\n",
       "    }\n",
       "</style>\n",
       "<table border=\"1\" class=\"dataframe\">\n",
       "  <thead>\n",
       "    <tr style=\"text-align: right;\">\n",
       "      <th></th>\n",
       "      <th>Model</th>\n",
       "      <th>Average Score</th>\n",
       "    </tr>\n",
       "  </thead>\n",
       "  <tbody>\n",
       "    <tr>\n",
       "      <th>0</th>\n",
       "      <td>Hand-Made</td>\n",
       "      <td>0.913853</td>\n",
       "    </tr>\n",
       "    <tr>\n",
       "      <th>1</th>\n",
       "      <td>Sklearn</td>\n",
       "      <td>0.985283</td>\n",
       "    </tr>\n",
       "  </tbody>\n",
       "</table>\n",
       "</div>"
      ],
      "text/plain": [
       "       Model  Average Score\n",
       "0  Hand-Made       0.913853\n",
       "1    Sklearn       0.985283"
      ]
     },
     "execution_count": 10,
     "metadata": {},
     "output_type": "execute_result"
    }
   ],
   "source": [
    "# create table to compare average accuracy on hand-made and sklearn classifiers\n",
    "info = {'Model': ['Hand-Made','Sklearn'],\n",
    "       'Average Score': [np.mean(accuracy1), np.mean(accuracy2)]}\n",
    "df = pd.DataFrame(info,columns=['Model','Average Score'])\n",
    "\n",
    "df"
   ]
  }
 ],
 "metadata": {
  "kernelspec": {
   "display_name": "Python 3",
   "language": "python",
   "name": "python3"
  },
  "language_info": {
   "codemirror_mode": {
    "name": "ipython",
    "version": 3
   },
   "file_extension": ".py",
   "mimetype": "text/x-python",
   "name": "python",
   "nbconvert_exporter": "python",
   "pygments_lexer": "ipython3",
   "version": "3.7.3"
  }
 },
 "nbformat": 4,
 "nbformat_minor": 2
}
